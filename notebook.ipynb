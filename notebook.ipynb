{
 "cells": [
  {
   "cell_type": "markdown",
   "metadata": {
    "collapsed": true
   },
   "source": [
    "###Read file with scored words"
   ]
  },
  {
   "cell_type": "code",
   "execution_count": 1,
   "metadata": {
    "collapsed": true
   },
   "outputs": [],
   "source": [
    "project_path = '/Users/lgaza/Dropbox/ZaMSZ/SentimentAnalysis'"
   ]
  },
  {
   "cell_type": "code",
   "execution_count": 2,
   "metadata": {},
   "outputs": [],
   "source": [
    "import sys\n",
    "sys.path.insert(1, project_path)"
   ]
  },
  {
   "cell_type": "code",
   "execution_count": 3,
   "metadata": {
    "collapsed": true
   },
   "outputs": [],
   "source": [
    "input_file_path = '{}/data/labMT.csv'.format(project_path)\n"
   ]
  },
  {
   "cell_type": "code",
   "execution_count": 4,
   "metadata": {
    "collapsed": true
   },
   "outputs": [],
   "source": [
    "from input import words\n",
    "from input import gutenberg_input, file_input\n",
    "from analysis import slice_generator\n",
    "from analysis.distance import distance_analysis\n",
    "from analysis.sentence import sentence_analysis\n",
    "from analysis.slice import slice_analysis"
   ]
  },
  {
   "cell_type": "code",
   "execution_count": 5,
   "metadata": {},
   "outputs": [],
   "source": [
    "scored_input_words_df = words.ScoredInputWords(input_file_path)"
   ]
  },
  {
   "cell_type": "code",
   "execution_count": 6,
   "metadata": {},
   "outputs": [],
   "source": [
    "books = {\n",
    "    'john_milton_paradise_lost': gutenberg_input.GutenbergInput('milton-paradise.txt', 'john_milton', 'paradise_lost'),\n",
    "    'herman_melville_moby_dick': gutenberg_input.GutenbergInput('melville-moby_dick.txt', 'herman_melville', 'moby_dick'),\n",
    "    'william_shakespeare_macbeth': gutenberg_input.GutenbergInput('shakespeare-macbeth.txt', 'william_shakespeare', 'macbeth'),\n",
    "    'james_joyce_ulysses': file_input.FileInput('{}/data/books/4300-0.txt'.format(project_path), 'james_joyce', 'ulysses'),\n",
    "    'murray_leinster_the_world_is_taboo': file_input.FileInput('{}/data/books/pg18172.txt'.format(project_path), 'murray_leinster', 'this_world_is_taboo'),\n",
    "    'dave_eggers_a_heartbreaking_work_of_staggering_genius': file_input.FileInput('{}/data/books/AHeartbreakingWorkOfStaggeringGenius_DEggers/a_heartbreaking_work_of_staggering_genius.txt'.format(project_path), 'dave_eggers', 'a_heartbreaking_work_of_staggering_genius'),\n",
    "    'toni_morrison_beloved': file_input.FileInput('{}/data/books/Beloved_TMorrisson/t.morrison_-_beloved.txt'.format(project_path), 'toni_morrison', 'beloved'),\n",
    "    'joseph_heller_catch_22': file_input.FileInput('{}/data/books/Catch22_JHeller/catch_22.txt'.format(project_path), 'joseph_heller', 'catch_22'),\n",
    "    'margaret_mitchell_gone_with_the_wind': file_input.FileInput('{}/data/books/GoneWithTheWind/GoneWithTheWind.txt'.format(project_path), 'margaret_mitchell', 'gone_with_the_wind'),\n",
    "    'jane_austen_pride_and_prejudice': file_input.FileInput('{}/data/books/PrideAndPrejudice/pride.txt'.format(project_path), 'jane_austen', 'pride_and_prejudice'),\n",
    "    'daniel_defoe_robinson_cruzoe': file_input.FileInput('{}/data/books/RobinsonCruzoe/robinson.txt'.format(project_path), 'daniel_defoe', 'robinson_cruzoe'),\n",
    "    'virginia_woolf_the_voyage_out': file_input.FileInput('{}/data/books/The_voyage_VirginiaWoolf/v.woolf_-_the_voyage_out.txt'.format(project_path), 'virginia_woolf', 'the_voyage_out'),\n",
    "    'virginia_woolf_the_years': file_input.FileInput('{}/data/books/The_years_VirginiaWoolf/v.woolf_-_the_years.txt'.format(project_path), 'virginia_woolf', 'the_years'),\n",
    "    'arthur_conan_doyle_the_adventures_of_sherlock_holmes': file_input.FileInput('{}/data/books/TheAdventuresOdSherlockHolmes/TheAdventuresOfSherlockHolmes.txt'.format(project_path), 'arthur_conan_doyle', 'the_adventures_of_sherlock_holmes'),\n",
    "    'henry_james_the_ambassadors': file_input.FileInput('{}/data/books/TheAmbassadors/TheAmbassadors.txt'.format(project_path), 'henry_james', 'the_ambassadors'),\n",
    "    'virginia_woolf_the_waves': file_input.FileInput('{}/data/books/Waves_VirginiaWoolf/waves_tekst.txt'.format(project_path), 'virginia_woolf', 'the_waves'),\n",
    "    'william_shakespear_the_winters_tale': file_input.FileInput('{}/data/books/pg2248.txt'.format(project_path), 'william_shakespear', 'the_winters_tale'),\n",
    "    'james_joyce_finnegans_wake': file_input.FileInput('{}/data/books/j.joyce_-_finnegans_wake.txt'.format(project_path), 'james_joyce', 'finnegans_wake'),\n",
    "    'marcel_proust_swanns_way': file_input.FileInput('{}/data/books/0300511.txt'.format(project_path), 'marcel_proust', 'swanns_way'),\n",
    "    'marcel_proust_within_a_budding_grove': file_input.FileInput('{}/data/books/0300401.txt'.format(project_path), 'marcel_proust', 'within_a_budding_grove'),\n",
    "    'marcel_proust_the_guermantes_way': file_input.FileInput('{}/data/books/0300411.txt'.format(project_path), 'marcel_proust', 'the_guermantes_way'),\n",
    "    'marcel_proust_cities_of_the_plain': file_input.FileInput('{}/data/books/0300491.txt'.format(project_path), 'marcel_proust', 'cities_of_the_plain'),\n",
    "    'marcel_proust_the_captive': file_input.FileInput('{}/data/books/0300501.txt'.format(project_path), 'marcel_proust', 'the_captive'),\n",
    "    'marcel_proust_the_sweet_cheat_gone': file_input.FileInput('{}/data/books/0300541.txt'.format(project_path), 'marcel_proust', 'the_sweet_cheat_gone'),\n",
    "    'marcel_proust_time_regained': file_input.FileInput('{}/data/books/0300691.txt'.format(project_path), 'marcel_proust', 'time_regained'),\n",
    "    'jane_austen_sense_and_sensibility': file_input.FileInput('{}/data/books/pg161.txt'.format(project_path), 'jane_austen', 'sense_and_sensibility'),\n",
    "    'the_king_james_version_of_the_bible': file_input.FileInput('{}/data/books/pg10.txt'.format(project_path), '', 'the_king_james_version_of_the_bible')\n",
    "}"
   ]
  },
  {
   "cell_type": "code",
   "execution_count": 7,
   "metadata": {},
   "outputs": [],
   "source": [
    "bible = books['the_king_james_version_of_the_bible']"
   ]
  },
  {
   "cell_type": "code",
   "execution_count": 8,
   "metadata": {},
   "outputs": [],
   "source": [
    "pride_and_prejudice = books['jane_austen_pride_and_prejudice']"
   ]
  },
  {
   "cell_type": "code",
   "execution_count": 9,
   "metadata": {},
   "outputs": [],
   "source": [
    "SLICE_SIZE=100\n",
    "slice_generator_obj = slice_generator.SliceGenerator(SLICE_SIZE)"
   ]
  },
  {
   "cell_type": "code",
   "execution_count": 10,
   "metadata": {},
   "outputs": [],
   "source": [
    "#scores = slice_analysis.SumScoredByScoredCountAnalysisNoNeutralWords(pride_and_prejudice)\n",
    "#scores = distance_analysis.DistanceToPreviousWordWithSentimentAnalysis(pride_and_prejudice)\n",
    "#scores = slice_analysis.NumberOfWordsWithSentimentPerSliceAnalysis(pride_and_prejudice)\n",
    "#scores = sentence_analysis.SumScoredByScoredCountPerSentenceAnalysisNoNeutralWords(pride_and_prejudice)\n",
    "#scores = sentence_analysis.NumberOfWordsWithSentimentPerSentenceAnalysis(pride_and_prejudice)\n",
    "scores = distance_analysis.DistanceToNeutralSentimentAnalysis(pride_and_prejudice)\n",
    "books_scores = scores.score(SLICE_SIZE, scored_input_words_df)"
   ]
  },
  {
   "cell_type": "code",
   "execution_count": 11,
   "metadata": {},
   "outputs": [
    {
     "name": "stdout",
     "output_type": "stream",
     "text": [
      "min:  -3.46\nmax:  3.5\navg:  0.40827845959305326\n"
     ]
    }
   ],
   "source": [
    "print(\"min: \", min(books_scores))\n",
    "print(\"max: \", max(books_scores))\n",
    "print(\"avg: \", sum(books_scores)/len(books_scores))"
   ]
  },
  {
   "cell_type": "code",
   "execution_count": 12,
   "metadata": {},
   "outputs": [
    {
     "data": {
      "image/png": "[encoded data removed]",
      "text/plain": [
       "<matplotlib.figure.Figure at 0x10cdd1f28>"
      ]
     },
     "metadata": {},
     "output_type": "display_data"
    }
   ],
   "source": [
    "scores.plot()"
   ]
  },
  {
   "cell_type": "code",
   "execution_count": 22,
   "metadata": {},
   "outputs": [],
   "source": [
    "results_path = '{}/outputs'.format(project_path)"
   ]
  },
  {
   "cell_type": "code",
   "execution_count": null,
   "metadata": {},
   "outputs": [],
   "source": []
  }
 ],
 "metadata": {
  "kernelspec": {
   "display_name": "Python 3",
   "language": "python",
   "name": "python3"
  },
  "language_info": {
   "codemirror_mode": {
    "name": "ipython",
    "version": 3
   },
   "file_extension": ".py",
   "mimetype": "text/x-python",
   "name": "python",
   "nbconvert_exporter": "python",
   "pygments_lexer": "ipython3",
   "version": "3.6.3"
  }
 },
 "nbformat": 4,
 "nbformat_minor": 1
}
