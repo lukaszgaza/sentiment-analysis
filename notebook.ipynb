{
 "cells": [
  {
   "cell_type": "markdown",
   "metadata": {
    "collapsed": true
   },
   "source": [
    "###Read file with scored words"
   ]
  },
  {
   "cell_type": "code",
   "execution_count": 1,
   "metadata": {
    "collapsed": true
   },
   "outputs": [],
   "source": [
    "project_path = '/Users/lgaza/Dropbox/ZaMSZ/SentimentAnalysis/'"
   ]
  },
  {
   "cell_type": "code",
   "execution_count": 2,
   "metadata": {},
   "outputs": [],
   "source": [
    "import sys\n",
    "sys.path.insert(1, project_path)"
   ]
  },
  {
   "cell_type": "code",
   "execution_count": 3,
   "metadata": {
    "collapsed": true
   },
   "outputs": [],
   "source": [
    "input_file_path = '{}/data/labMT.csv'.format(project_path)\n"
   ]
  },
  {
   "cell_type": "code",
   "execution_count": 9,
   "metadata": {
    "collapsed": true
   },
   "outputs": [],
   "source": [
    "from input import words\n",
    "from input import gutenberg_input, file_input"
   ]
  },
  {
   "cell_type": "code",
   "execution_count": 10,
   "metadata": {},
   "outputs": [],
   "source": [
    "scored_words = words.ScoredWords(input_file_path)"
   ]
  },
  {
   "cell_type": "code",
   "execution_count": 11,
   "metadata": {},
   "outputs": [],
   "source": [
    "books = {\n",
    "    'john_milton_paradise_lost': gutenberg_input.GutenbergInput('milton-paradise.txt', 'john_milton_paradise_lost'),\n",
    "    'herman_melville_moby_dick': gutenberg_input.GutenbergInput('melville-moby_dick.txt', 'herman_melville_moby_dick'),\n",
    "    'william_shakespeare_macbeth': gutenberg_input.GutenbergInput('shakespeare-macbeth.txt', 'william_shakespeare_macbeth'),\n",
    "    'james_joyce_ulysses': file_input.FileInput('{}/data/books/4300-0.txt'.format(project_path), 'james_joyce_ulysses'),\n",
    "    'murray_leinster_the_world_is_taboo': file_input.FileInput('{}/data/books/pg18172.txt'.format(project_path), 'murray_leinster_the_world_is_taboo'),\n",
    "    'eggers_a_heartbreaking_work_of_staggering_genius': file_input.FileInput('{}/data/books/AHeartbreakingWorkOfStaggeringGenius_DEggers/a_heartbreaking_work_of_staggering_genius.txt'.format(project_path), 'eggers_a_heartbreaking_work_of_staggering_genius'),\n",
    "    'morrison_beloved': file_input.FileInput('{}/data/books/Beloved_TMorrisson/t.morrison_-_beloved.txt'.format(project_path), 'morrison_beloved'),\n",
    "    'heller_catch_22': file_input.FileInput('{}/data/books/Catch22_JHeller/catch_22.txt'.format(project_path), 'heller_catch_22'),\n",
    "    'gone_with_the_wind': file_input.FileInput('{}/data/books/GoneWithTheWind/GoneWithTheWind.txt'.format(project_path), 'gone_with_the_wind'),\n",
    "    'pride_and_prejudice': file_input.FileInput('{}/data/books/PrideAndPrejudice/pride.txt'.format(project_path), 'pride_and_prejudice'),\n",
    "    'robinson_cruzoe': file_input.FileInput('{}/data/books/RobinsonCruzoe/robinson.txt'.format(project_path), 'robinson_cruzoe'),\n",
    "    'virginia_woolf_the_voyage_out': file_input.FileInput('{}/data/books/The_voyage_VirginiaWoolf/v.woolf_-_the_voyage_out.txt'.format(project_path), 'virginia_woolf_the_voyage_out'),\n",
    "    'virginia_woolf_the_years': file_input.FileInput('{}/data/books/The_years_VirginiaWoolf/v.woolf_-_the_years.txt'.format(project_path), 'virginia_woolf_the_years'),\n",
    "    'the_adventures_of_sherlock_holmes': file_input.FileInput('{}/data/books/TheAdventuresOdSherlockHolmes/TheAdventuresOfSherlockHolmes.txt'.format(project_path), 'the_adventures_of_sherlock_holmes'),\n",
    "    'the_ambassadors': file_input.FileInput('{}/data/books/TheAmbassadors/TheAmbassadors.txt'.format(project_path), 'the_ambassadors'),\n",
    "    'virginia_woolf_waves': file_input.FileInput('{}/data/books/Waves_VirginiaWoolf/waves_tekst.txt'.format(project_path), 'virginia_woolf_waves'),\n",
    "    'william_shakespear_the_winters_tale': file_input.FileInput('{}/data/books/pg2248.txt'.format(project_path), 'william_shakespear_the_winters_tale'),\n",
    "    'james_joyce_finnegans_wake': file_input.FileInput('{}/data/books/j.joyce_-_finnegans_wake.txt'.format(project_path), 'james_joyce_finnegans_wake'),\n",
    "    'billie_jean': file_input.FileInput('{}/data/books/billie_jean.txt'.format(project_path), 'billie_jean')\n",
    "}"
   ]
  },
  {
   "cell_type": "code",
   "execution_count": 32,
   "metadata": {},
   "outputs": [
    {
     "name": "stdout",
     "output_type": "stream",
     "text": [
      "john_milton_paradise_lost\n['[', 'Paradise', 'Lost', 'by', 'John', 'Milton', '1667', ']', 'Book', 'I']\n\nherman_melville_moby_dick\n['[', 'Moby', 'Dick', 'by', 'Herman', 'Melville', '1851', ']', 'ETYMOLOGY', '.']\n\nwilliam_shakespeare_macbeth\n['[', 'The', 'Tragedie', 'of', 'Macbeth', 'by', 'William', 'Shakespeare', '1603', ']']\n\njames_joyce_ulysses\n"
     ]
    },
    {
     "name": "stdout",
     "output_type": "stream",
     "text": [
      "['\\ufeff', 'The', 'Project', 'Gutenberg', 'EBook', 'of', 'Ulysses', ',', 'by', 'James']\n\nmurray_leinster_the_world_is_taboo\n"
     ]
    },
    {
     "name": "stdout",
     "output_type": "stream",
     "text": [
      "['\\ufeffThe', 'Project', 'Gutenberg', 'EBook', 'of', 'This', 'World', 'Is', 'Taboo', ',']\n\neggers_a_heartbreaking_work_of_staggering_genius\n"
     ]
    },
    {
     "name": "stdout",
     "output_type": "stream",
     "text": [
      "['First', 'of', 'all', ':', 'I', 'am', 'tired', '.', 'I', 'am']\n\nmorrison_beloved\n"
     ]
    },
    {
     "name": "stdout",
     "output_type": "stream",
     "text": [
      "['One', '124', 'WAS', 'SPITEFUL', '.', 'Full', 'of', 'a', 'baby', \"'s\"]\n\nheller_catch_22\n"
     ]
    },
    {
     "name": "stdout",
     "output_type": "stream",
     "text": [
      "['1', 'THE', 'TEXAN', 'It', 'was', 'love', 'at', 'first', 'sight', '.']\n\ngone_with_the_wind\n"
     ]
    },
    {
     "name": "stdout",
     "output_type": "stream",
     "text": [
      "['\\ufeff', 'Title', ':', 'Gone', 'With', 'The', 'Wind', 'Author', ':', 'Margaret']\n\npride_and_prejudice\n"
     ]
    },
    {
     "name": "stdout",
     "output_type": "stream",
     "text": [
      "['\\ufeff', 'Title', ':', 'Pride', 'and', 'Prejudice', 'Author', ':', 'Jane', 'Austen']\n\nrobinson_cruzoe\n"
     ]
    },
    {
     "name": "stdout",
     "output_type": "stream",
     "text": [
      "['\\ufeff', 'Title', ':', 'The', 'Life', 'and', 'Adventures', 'of', 'Robinson', 'Crusoe']\n\nvirginia_woolf_the_voyage_out\n"
     ]
    },
    {
     "name": "stdout",
     "output_type": "stream",
     "text": [
      "['Chapter', 'I', 'As', 'the', 'streets', 'that', 'lead', 'from', 'the', 'Strand']\n\nvirginia_woolf_the_years\n"
     ]
    },
    {
     "name": "stdout",
     "output_type": "stream",
     "text": [
      "['THE', 'YEARS', 'by', 'VIRGINIA', 'WOOLF', '1937', 'THE', 'YEARS', '1880', 'It']\n\nthe_adventures_of_sherlock_holmes\n"
     ]
    },
    {
     "name": "stdout",
     "output_type": "stream",
     "text": [
      "['\\ufeffTHE', 'ADVENTURES', 'OF', 'SHERLOCK', 'HOLMES', 'by', 'SIR', 'ARTHUR', 'CONAN', 'DOYLE']\n\nthe_ambassadors\n"
     ]
    },
    {
     "name": "stdout",
     "output_type": "stream",
     "text": [
      "['\\ufeff', 'The', 'Ambassadors', ',', 'by', 'Henry', 'James', '.', 'New', 'York']\n\nvirginia_woolf_waves\n"
     ]
    },
    {
     "name": "stdout",
     "output_type": "stream",
     "text": [
      "['The', 'sun', 'had', 'not', 'yet', 'risen', '.', 'The', 'sea', 'was']\n\nwilliam_shakespear_the_winters_tale\n['\\ufeff***The', 'Project', 'Gutenberg', \"'s\", 'Etext', 'of', 'Shakespeare', \"'s\", 'First', 'Folio***']"
     ]
    },
    {
     "name": "stdout",
     "output_type": "stream",
     "text": [
      "\n\njames_joyce_finnegans_wake\n['riverrun', ',', 'past', 'Eve', 'and', 'Adam', \"'s\", ',', 'from', 'swerve']\n\nbillie_jean\n['She', 'was', 'more', 'like', 'a', 'beauty', 'queen', 'From', 'a', 'movie']\n\n"
     ]
    }
   ],
   "source": [
    "for title, book in books.items():\n",
    "    print(title)\n",
    "    print(book.get_words_lower()[:10])\n",
    "    print()"
   ]
  },
  {
   "cell_type": "code",
   "execution_count": 8,
   "metadata": {},
   "outputs": [],
   "source": [
    "from input import gutenberg_input, file_input\n",
    "milton = gutenberg_input.GutenbergInput('milton-paradise.txt', 'john_milton_paradise_lost')"
   ]
  },
  {
   "cell_type": "code",
   "execution_count": 33,
   "metadata": {},
   "outputs": [
    {
     "data": {
      "text/plain": [
       "19"
      ]
     },
     "execution_count": 33,
     "metadata": {},
     "output_type": "execute_result"
    }
   ],
   "source": [
    "len(books.values())"
   ]
  },
  {
   "cell_type": "code",
   "execution_count": null,
   "metadata": {},
   "outputs": [],
   "source": []
  }
 ],
 "metadata": {
  "kernelspec": {
   "display_name": "Python 3",
   "language": "python",
   "name": "python3"
  },
  "language_info": {
   "codemirror_mode": {
    "name": "ipython",
    "version": 3
   },
   "file_extension": ".py",
   "mimetype": "text/x-python",
   "name": "python",
   "nbconvert_exporter": "python",
   "pygments_lexer": "ipython3",
   "version": "3.6.3"
  }
 },
 "nbformat": 4,
 "nbformat_minor": 1
}
